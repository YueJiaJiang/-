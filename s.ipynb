{
 "cells": [
  {
   "cell_type": "code",
   "execution_count": null,
   "id": "0a2af090",
   "metadata": {},
   "outputs": [],
   "source": [
    "import numpy as np\n",
    "import pandas as pd"
   ]
  },
  {
   "cell_type": "code",
   "execution_count": null,
   "id": "d9b2e27d",
   "metadata": {},
   "outputs": [],
   "source": [
    "file_path = \"./data29.csv\"\n",
    "X = pd.read_csv(file_path, encoding=\"utf8\")"
   ]
  },
  {
   "cell_type": "code",
   "execution_count": null,
   "id": "ea1350c2",
   "metadata": {},
   "outputs": [],
   "source": [
    "#np.set_printoptions(precision=2)\n",
    "\n",
    "mean = X.mean(axis=0)\n",
    "X_std = X.std(axis=0)\n",
    "X_standardized = (X - mean)/X_std\n",
    "X_standardized"
   ]
  }
 ],
 "metadata": {
  "kernelspec": {
   "display_name": "Python 3 (ipykernel)",
   "language": "python",
   "name": "python3"
  },
  "language_info": {
   "codemirror_mode": {
    "name": "ipython",
    "version": 3
   },
   "file_extension": ".py",
   "mimetype": "text/x-python",
   "name": "python",
   "nbconvert_exporter": "python",
   "pygments_lexer": "ipython3",
   "version": "3.10.9"
  }
 },
 "nbformat": 4,
 "nbformat_minor": 5
}
